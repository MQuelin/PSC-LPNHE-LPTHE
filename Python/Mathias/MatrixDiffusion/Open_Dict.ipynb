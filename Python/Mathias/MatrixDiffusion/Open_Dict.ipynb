{
 "cells": [
  {
   "cell_type": "code",
   "execution_count": 5,
   "metadata": {},
   "outputs": [
    {
     "data": {
      "text/plain": [
       "dict_keys(['e', 'et', 'eta', 'phi', 'reta', 'rphi', 'rhad', 'eratio', 'weta2', 'f1', 'f3', 'rp0', 'rp1', 'rp2', 'rp3', 'rphad1', 'rphad2', 'rphad3', 'eventNumber', 'target', 'rings', 'rprings', 'e_truth', 'et_truth', 'eta_truth', 'phi_truth', 'px_truth', 'py_truth', 'pz_truth'])"
      ]
     },
     "execution_count": 5,
     "metadata": {},
     "output_type": "execute_result"
    }
   ],
   "source": [
    "import pickle, os\n",
    "\n",
    "\n",
    "##\n",
    "##Paramètres\n",
    "##\n",
    "\n",
    "# Nom du dossier dans le lequel le program actuel est executé, ne pas modifier\n",
    "dir_name = os.getcwd()\n",
    "\n",
    "# Nom du fichier\n",
    "file_name = \"data_dict.pkl\"\n",
    "# Path relatif pour l'ouverture du fichier\n",
    "# Laisser le string vide si le fichier pickle est enregistré dans le même dossier que le code du notebook jupyter\n",
    "relative_path = \"Data\" \n",
    "\n",
    "path = os.path.join(dir_name, relative_path)\n",
    "path = os.path.join(path, file_name)\n",
    "\n",
    "with open(path, 'rb') as file:\n",
    "    obj = pickle.load(file)\n",
    "\n",
    "obj.keys()"
   ]
  }
 ],
 "metadata": {
  "kernelspec": {
   "display_name": "Python 3",
   "language": "python",
   "name": "python3"
  },
  "language_info": {
   "codemirror_mode": {
    "name": "ipython",
    "version": 3
   },
   "file_extension": ".py",
   "mimetype": "text/x-python",
   "name": "python",
   "nbconvert_exporter": "python",
   "pygments_lexer": "ipython3",
   "version": "3.11.3"
  }
 },
 "nbformat": 4,
 "nbformat_minor": 2
}
