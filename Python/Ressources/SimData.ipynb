{
 "cells": [
  {
   "cell_type": "markdown",
   "metadata": {},
   "source": [
    "# Classe python pour l'export des fichiers Root :\n",
    "\n",
    "Copiez la cellule ci dessous dans votre projet pour utiliser la classe\n",
    "\n",
    "L'objectif de la classe *SimData* est que tous les membres du groupe puissent lire les données des fichiers root sans avoir à l'installer.\n",
    "\n",
    "La classe à pour vocation à évoluer au fil du PSC si les besoins en données changent au fil du projet.\n",
    "\n",
    "Vous pouvez donc modifier la classe. Cependant ne modifiez/supprimez pas des variables déjà définies et utilisées pour que cette classe puisse continuée d'être utilisée par du code qui précède la modification."
   ]
  },
  {
   "cell_type": "code",
   "execution_count": 8,
   "metadata": {},
   "outputs": [],
   "source": [
    "class SimData:\n",
    "    \"\"\"\n",
    "    Classe permettant de sauvegarded les données d'un fichier root sous forme de listes python\n",
    "    V0\n",
    "    \"\"\"\n"
   ]
  },
  {
   "cell_type": "markdown",
   "metadata": {},
   "source": [
    "# Cellule pour l'enregistrement des données :\n",
    "\n",
    "La cellule suivante contient le code qui permet d'enregistrer un objet de la classe *SimData* afin d'être tranferré à un autre ordinateur.\n",
    "\n",
    "Copiez la dans votre notebook en changeant les paramètres importants"
   ]
  },
  {
   "cell_type": "code",
   "execution_count": 9,
   "metadata": {},
   "outputs": [
    {
     "ename": "SyntaxError",
     "evalue": "invalid syntax (3315287813.py, line 8)",
     "output_type": "error",
     "traceback": [
      "\u001b[1;36m  Cell \u001b[1;32mIn[9], line 8\u001b[1;36m\u001b[0m\n\u001b[1;33m    obj = #A completer#\u001b[0m\n\u001b[1;37m          ^\u001b[0m\n\u001b[1;31mSyntaxError\u001b[0m\u001b[1;31m:\u001b[0m invalid syntax\n"
     ]
    }
   ],
   "source": [
    "import pickle, os\n",
    "\n",
    "\n",
    "##\n",
    "## Objet à enregistrer\n",
    "##\n",
    "\n",
    "obj = #A completer#\n",
    "\n",
    "##\n",
    "##Paramètres\n",
    "##\n",
    "\n",
    "# Nom du dossier dans le lequel le program actuel est executé, ne pas modifier\n",
    "dir_name = os.getcwd()\n",
    "# Nom du fichier\n",
    "file_name = \"Default\"\n",
    "# Path relatif pour l'enregistrement du fichier\n",
    "# Laisser le string vide pour enregistrer dans le même fichier que le notebook jupyter\n",
    "relative_path = \"\" \n",
    "\n",
    "path = os.path.join(dir_name, relative_path)\n",
    "path = os.path.join(path, file_name) + '.pkl'\n",
    "\n",
    "with open(path, 'xb') as file:\n",
    "    pickle.dump(obj, file)\n",
    "\n"
   ]
  },
  {
   "cell_type": "markdown",
   "metadata": {},
   "source": [
    "# Cellule pour l'enregistrement des données :\n",
    "\n",
    "La cellule suivante contient le code qui permet d'ouvrir un objet de la classe *SimData* depuis un fichier pickle\n",
    "\n",
    "Copiez la dans votre notebook en changeant les paramètres importants."
   ]
  },
  {
   "cell_type": "code",
   "execution_count": 11,
   "metadata": {},
   "outputs": [
    {
     "ename": "EOFError",
     "evalue": "Ran out of input",
     "output_type": "error",
     "traceback": [
      "\u001b[1;31m---------------------------------------------------------------------------\u001b[0m",
      "\u001b[1;31mEOFError\u001b[0m                                  Traceback (most recent call last)",
      "\u001b[1;32mc:\\Users\\Mathias\\Partage_VM\\A2\\PSC\\Main Repositories\\PSC-LPNHE-LPTHE\\Python\\Ressources\\SimData.ipynb Cell 6\u001b[0m line \u001b[0;36m2\n\u001b[0;32m     <a href='vscode-notebook-cell:/c%3A/Users/Mathias/Partage_VM/A2/PSC/Main%20Repositories/PSC-LPNHE-LPTHE/Python/Ressources/SimData.ipynb#W5sZmlsZQ%3D%3D?line=21'>22</a>\u001b[0m path \u001b[39m=\u001b[39m os\u001b[39m.\u001b[39mpath\u001b[39m.\u001b[39mjoin(dir_name, file_name) \u001b[39m+\u001b[39m \u001b[39m'\u001b[39m\u001b[39m.pickle\u001b[39m\u001b[39m'\u001b[39m\n\u001b[0;32m     <a href='vscode-notebook-cell:/c%3A/Users/Mathias/Partage_VM/A2/PSC/Main%20Repositories/PSC-LPNHE-LPTHE/Python/Ressources/SimData.ipynb#W5sZmlsZQ%3D%3D?line=23'>24</a>\u001b[0m \u001b[39mwith\u001b[39;00m \u001b[39mopen\u001b[39m(path, \u001b[39m'\u001b[39m\u001b[39mrb\u001b[39m\u001b[39m'\u001b[39m) \u001b[39mas\u001b[39;00m file:\n\u001b[1;32m---> <a href='vscode-notebook-cell:/c%3A/Users/Mathias/Partage_VM/A2/PSC/Main%20Repositories/PSC-LPNHE-LPTHE/Python/Ressources/SimData.ipynb#W5sZmlsZQ%3D%3D?line=24'>25</a>\u001b[0m     obj \u001b[39m=\u001b[39m pickle\u001b[39m.\u001b[39;49mload(file)\n",
      "\u001b[1;31mEOFError\u001b[0m: Ran out of input"
     ]
    }
   ],
   "source": [
    "import pickle, os\n",
    "\n",
    "##\n",
    "## Objet à ouvrir\n",
    "##\n",
    "\n",
    "obj = SimData()\n",
    "\n",
    "##\n",
    "##Paramètres\n",
    "##\n",
    "\n",
    "# Nom du dossier dans le lequel le program actuel est executé, ne pas modifier\n",
    "dir_name = os.getcwd()\n",
    "\n",
    "# Nom du fichier\n",
    "file_name = \"Default\"\n",
    "# Path relatif pour l'ouverture du fichier\n",
    "# Laisser le string vide si le fichier pickle est enregistré dans le même dossier que le code du notebook jupyter\n",
    "relative_path = \"\" \n",
    "\n",
    "path = os.path.join(dir_name, relative_path)\n",
    "path = os.path.join(path, file_name)\n",
    "\n",
    "with open(path, 'rb') as file:\n",
    "    obj = pickle.load(file)\n",
    "\n"
   ]
  }
 ],
 "metadata": {
  "kernelspec": {
   "display_name": "Python 3",
   "language": "python",
   "name": "python3"
  },
  "language_info": {
   "codemirror_mode": {
    "name": "ipython",
    "version": 3
   },
   "file_extension": ".py",
   "mimetype": "text/x-python",
   "name": "python",
   "nbconvert_exporter": "python",
   "pygments_lexer": "ipython3",
   "version": "3.11.3"
  }
 },
 "nbformat": 4,
 "nbformat_minor": 2
}
